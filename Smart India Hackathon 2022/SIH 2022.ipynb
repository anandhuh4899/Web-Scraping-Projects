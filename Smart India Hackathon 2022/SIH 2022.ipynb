{
 "cells": [
  {
   "cell_type": "markdown",
   "id": "c6983346",
   "metadata": {},
   "source": [
    "## Smart India Hackathon 2022 - Problem Statements"
   ]
  },
  {
   "cell_type": "code",
   "execution_count": 1,
   "id": "341ca747",
   "metadata": {},
   "outputs": [],
   "source": [
    "# import libraries\n",
    "\n",
    "import pandas as pd\n",
    "from time import sleep\n",
    "from selenium import webdriver\n",
    "from selenium.common.exceptions import NoSuchElementException\n",
    "\n",
    "import warnings\n",
    "warnings.filterwarnings('ignore')"
   ]
  },
  {
   "cell_type": "code",
   "execution_count": 2,
   "id": "5aeee210",
   "metadata": {},
   "outputs": [],
   "source": [
    "# webdriver for Firefox - geckodriver\n",
    "driver = webdriver.Firefox(executable_path='/home/anandhuh/Documents/geckodriver')\n",
    "\n",
    "# sticky timeout to implicitly wait for an element to be found\n",
    "driver.implicitly_wait(20) \n",
    "\n",
    "# open url in the browser\n",
    "driver.get('https://sih.gov.in/sih2022PS')"
   ]
  },
  {
   "cell_type": "code",
   "execution_count": 3,
   "id": "03ba7b39",
   "metadata": {
    "scrolled": false
   },
   "outputs": [
    {
     "data": {
      "text/plain": [
       "['S.No.',\n",
       " 'Organization',\n",
       " 'Problem Statement Title',\n",
       " 'Category',\n",
       " 'PS Number',\n",
       " 'Submitted Idea(s) Count',\n",
       " 'Domain Bucket']"
      ]
     },
     "execution_count": 3,
     "metadata": {},
     "output_type": "execute_result"
    }
   ],
   "source": [
    "cols=driver.find_elements_by_xpath(\"/html/body/section[2]/div[2]/div/div[2]/div/table/thead/tr/th\")\n",
    "\n",
    "# column names\n",
    "col_lst = [c.text.replace('\\n',' ') for c in cols]\n",
    "col_lst"
   ]
  },
  {
   "cell_type": "code",
   "execution_count": 4,
   "id": "27187d24",
   "metadata": {},
   "outputs": [
    {
     "data": {
      "text/html": [
       "<div>\n",
       "<style scoped>\n",
       "    .dataframe tbody tr th:only-of-type {\n",
       "        vertical-align: middle;\n",
       "    }\n",
       "\n",
       "    .dataframe tbody tr th {\n",
       "        vertical-align: top;\n",
       "    }\n",
       "\n",
       "    .dataframe thead th {\n",
       "        text-align: right;\n",
       "    }\n",
       "</style>\n",
       "<table border=\"1\" class=\"dataframe\">\n",
       "  <thead>\n",
       "    <tr style=\"text-align: right;\">\n",
       "      <th></th>\n",
       "      <th>S.No.</th>\n",
       "      <th>Organization</th>\n",
       "      <th>Problem Statement Title</th>\n",
       "      <th>Category</th>\n",
       "      <th>PS Number</th>\n",
       "      <th>Submitted Idea(s) Count</th>\n",
       "      <th>Domain Bucket</th>\n",
       "    </tr>\n",
       "  </thead>\n",
       "  <tbody>\n",
       "  </tbody>\n",
       "</table>\n",
       "</div>"
      ],
      "text/plain": [
       "Empty DataFrame\n",
       "Columns: [S.No., Organization, Problem Statement Title, Category, PS Number, Submitted Idea(s) Count, Domain Bucket]\n",
       "Index: []"
      ]
     },
     "execution_count": 4,
     "metadata": {},
     "output_type": "execute_result"
    }
   ],
   "source": [
    "# new dataframe\n",
    "df=pd.DataFrame(columns=col_lst)\n",
    "df"
   ]
  },
  {
   "cell_type": "code",
   "execution_count": 5,
   "id": "cbd991a6",
   "metadata": {},
   "outputs": [
    {
     "name": "stdout",
     "output_type": "stream",
     "text": [
      "1\n",
      "White Hour Solutions\n",
      "Hosting a blockchain code on to a cloud network in order to create a prototype app in the Healthcare sector\n",
      "Software\n",
      "SJ572\n",
      "60\n",
      "MedTech / BioTech / HealthTech\n"
     ]
    }
   ],
   "source": [
    "# first row\n",
    "row_one=driver.find_elements_by_xpath(\"/html/body/section[2]/div[2]/div/div[2]/div/table/tbody/tr[1]/td\")\n",
    "for element in row_one:\n",
    "    print(element.text)"
   ]
  },
  {
   "cell_type": "code",
   "execution_count": 6,
   "id": "29db88d6",
   "metadata": {},
   "outputs": [
    {
     "name": "stdout",
     "output_type": "stream",
     "text": [
      "CPU times: user 3.29 s, sys: 157 ms, total: 3.45 s\n",
      "Wall time: 40.6 s\n"
     ]
    }
   ],
   "source": [
    "%%time\n",
    "condition=True\n",
    "\n",
    "while condition:\n",
    "    \n",
    "    try:\n",
    "        \n",
    "        # 10 results per page\n",
    "        for i in range(1,11):\n",
    "            rows=driver.find_elements_by_xpath(\"/html/body/section[2]/div[2]/div/div[2]/div/table/tbody/tr[{}]/td\".format(i))\n",
    "            row_lst = [r.text for r in rows]\n",
    "            df.loc[len(df.index)]=row_lst\n",
    "\n",
    "        # click on 'Next'\n",
    "        nxt=driver.find_element_by_xpath('/html/body/section[2]/div[2]/div/div[3]/div[2]/div/ul/li[9]/a')\n",
    "        driver.execute_script(\"arguments[0].click();\", nxt)\n",
    "    \n",
    "    \n",
    "    except ValueError:\n",
    "    \n",
    "        condition=False"
   ]
  },
  {
   "cell_type": "code",
   "execution_count": 7,
   "id": "8e99f933",
   "metadata": {},
   "outputs": [
    {
     "data": {
      "text/html": [
       "<div>\n",
       "<style scoped>\n",
       "    .dataframe tbody tr th:only-of-type {\n",
       "        vertical-align: middle;\n",
       "    }\n",
       "\n",
       "    .dataframe tbody tr th {\n",
       "        vertical-align: top;\n",
       "    }\n",
       "\n",
       "    .dataframe thead th {\n",
       "        text-align: right;\n",
       "    }\n",
       "</style>\n",
       "<table border=\"1\" class=\"dataframe\">\n",
       "  <thead>\n",
       "    <tr style=\"text-align: right;\">\n",
       "      <th></th>\n",
       "      <th>Organization</th>\n",
       "      <th>Problem Statement Title</th>\n",
       "      <th>Category</th>\n",
       "      <th>PS Number</th>\n",
       "      <th>Submitted Idea(s) Count</th>\n",
       "      <th>Domain Bucket</th>\n",
       "    </tr>\n",
       "  </thead>\n",
       "  <tbody>\n",
       "    <tr>\n",
       "      <th>0</th>\n",
       "      <td>White Hour Solutions</td>\n",
       "      <td>Hosting a blockchain code on to a cloud networ...</td>\n",
       "      <td>Software</td>\n",
       "      <td>SJ572</td>\n",
       "      <td>60</td>\n",
       "      <td>MedTech / BioTech / HealthTech</td>\n",
       "    </tr>\n",
       "    <tr>\n",
       "      <th>1</th>\n",
       "      <td>Department of Space, Indian Space Research Org...</td>\n",
       "      <td>Runtime remote video quality assessment</td>\n",
       "      <td>Software</td>\n",
       "      <td>SS584</td>\n",
       "      <td>5</td>\n",
       "      <td>Miscellaneous</td>\n",
       "    </tr>\n",
       "    <tr>\n",
       "      <th>2</th>\n",
       "      <td>Department of Space, Indian Space Research Org...</td>\n",
       "      <td>Video metadata generation &amp; classification</td>\n",
       "      <td>Software</td>\n",
       "      <td>SS585</td>\n",
       "      <td>26</td>\n",
       "      <td>Miscellaneous</td>\n",
       "    </tr>\n",
       "    <tr>\n",
       "      <th>3</th>\n",
       "      <td>Department of Space, Indian Space Research Org...</td>\n",
       "      <td>DISCOVER</td>\n",
       "      <td>Software</td>\n",
       "      <td>SS586</td>\n",
       "      <td>21</td>\n",
       "      <td>Miscellaneous</td>\n",
       "    </tr>\n",
       "    <tr>\n",
       "      <th>4</th>\n",
       "      <td>Department of Space, Indian Space Research Org...</td>\n",
       "      <td>HERITAGE Identification of monuments using Dee...</td>\n",
       "      <td>Software</td>\n",
       "      <td>SS588</td>\n",
       "      <td>40</td>\n",
       "      <td>Miscellaneous</td>\n",
       "    </tr>\n",
       "  </tbody>\n",
       "</table>\n",
       "</div>"
      ],
      "text/plain": [
       "                                        Organization  \\\n",
       "0                               White Hour Solutions   \n",
       "1  Department of Space, Indian Space Research Org...   \n",
       "2  Department of Space, Indian Space Research Org...   \n",
       "3  Department of Space, Indian Space Research Org...   \n",
       "4  Department of Space, Indian Space Research Org...   \n",
       "\n",
       "                             Problem Statement Title  Category PS Number  \\\n",
       "0  Hosting a blockchain code on to a cloud networ...  Software     SJ572   \n",
       "1            Runtime remote video quality assessment  Software     SS584   \n",
       "2         Video metadata generation & classification  Software     SS585   \n",
       "3                                           DISCOVER  Software     SS586   \n",
       "4  HERITAGE Identification of monuments using Dee...  Software     SS588   \n",
       "\n",
       "  Submitted Idea(s) Count                   Domain Bucket  \n",
       "0                      60  MedTech / BioTech / HealthTech  \n",
       "1                       5                   Miscellaneous  \n",
       "2                      26                   Miscellaneous  \n",
       "3                      21                   Miscellaneous  \n",
       "4                      40                   Miscellaneous  "
      ]
     },
     "execution_count": 7,
     "metadata": {},
     "output_type": "execute_result"
    }
   ],
   "source": [
    "# exclude column 'S.No.'\n",
    "df=df.iloc[:,1:]\n",
    "\n",
    "# first five rows\n",
    "df.head()"
   ]
  },
  {
   "cell_type": "code",
   "execution_count": 8,
   "id": "b161809f",
   "metadata": {},
   "outputs": [],
   "source": [
    "# save as csv file\n",
    "df.to_csv('sih_2022.csv',index=False)"
   ]
  },
  {
   "cell_type": "markdown",
   "id": "0418da48",
   "metadata": {},
   "source": [
    "### With description"
   ]
  },
  {
   "cell_type": "code",
   "execution_count": 9,
   "id": "1fd8edc0",
   "metadata": {},
   "outputs": [],
   "source": [
    "# click on page 1\n",
    "p1=driver.find_element_by_xpath('/html/body/section[2]/div[2]/div/div[3]/div[2]/div/ul/li[2]/a')\n",
    "driver.execute_script(\"arguments[0].click();\", p1)"
   ]
  },
  {
   "cell_type": "code",
   "execution_count": 10,
   "id": "d6c489ea",
   "metadata": {},
   "outputs": [
    {
     "name": "stdout",
     "output_type": "stream",
     "text": [
      "CPU times: user 4.85 s, sys: 307 ms, total: 5.16 s\n",
      "Wall time: 5min 40s\n"
     ]
    }
   ],
   "source": [
    "%%time\n",
    "description=[]\n",
    "\n",
    "condition=True\n",
    "\n",
    "while condition:\n",
    "    \n",
    "    try:\n",
    "\n",
    "        for i in range(1,11):\n",
    "\n",
    "            # click on problem statement title\n",
    "            title=driver.find_element_by_xpath('/html/body/section[2]/div[2]/div/div[2]/div/table/tbody/tr[{}]/td[3]/a'.format(i))\n",
    "            driver.execute_script(\"arguments[0].click();\", title)\n",
    "            sleep(0.25)\n",
    "\n",
    "            # extract description\n",
    "            descr=driver.find_element_by_xpath('/html/body/section[2]/div[2]/div/div[2]/div/table/tbody/tr[{}]/td[3]/div/div/div/div[2]/table/thead/tr[1]/td/div'.format(i)).text\n",
    "            description.append(descr)\n",
    "            sleep(0.25)\n",
    "\n",
    "            # close the current window\n",
    "            close=driver.find_element_by_xpath('/html/body/section[2]/div[2]/div/div[2]/div/table/tbody/tr[{}]/td[3]/div/div/div/div[1]/button'.format(i))\n",
    "            driver.execute_script(\"arguments[0].click();\", close)\n",
    "            \n",
    "        # click on 'Next'\n",
    "        nxt=driver.find_element_by_xpath('/html/body/section[2]/div[2]/div/div[3]/div[2]/div/ul/li[9]/a')\n",
    "        driver.execute_script(\"arguments[0].click();\", nxt)\n",
    "            \n",
    "            \n",
    "    except NoSuchElementException:\n",
    "    \n",
    "        condition=False"
   ]
  },
  {
   "cell_type": "code",
   "execution_count": 11,
   "id": "08a78e73",
   "metadata": {},
   "outputs": [
    {
     "data": {
      "text/plain": [
       "['Hosting a blockchain code on to a cloud network in order to create a prototype app in the Healthcare sector. Problem Statement short description in a short paragraph Who we are - A young start-up in the Health Tech space. What we plan to achieve – Create a blockchain application to store and share patient records with Doctors and Health care intermediaries. Where we are currently – The team has built the code and UI/UX designs for the application, but we need help to host the program on a network and create a prototype. What we need – We need young professionals to help solve the hosting issue and build the prototype. White Hour Solutions (WHS) LLP., is a young start-up looking to provide a solution for patient to record, store and share their Personal Health Records (PHRs). The PHRs would be interoperable between the patient and other Healthcare intermediaries. We plan to do this by providing an application which can be used through mobile phones, computers or tablets. We are currently at the phase where we have the codes developed and the designs for the app, but need help with hosting it on the cloud and building the prototype. All support and assistance will be provided for the same.',\n",
       " 'Interactive video communication over limited bandwidth channel and variable user end configuration has concern of video quality. Different VSAT terminals may have different computing resources i.e. RAM, graphics card, local network issues, not properly optimized VSAT setup affecting BER, Receive power etc. In situation like distributed video content delivery, video quality checks during runtime becomes problematic for having lack of reference video at remote or remote video as central transmitting end. The assessment of video quality across remote nodes distributed geographically this becomes challenging. Solution needs to be developed to assess the quality of captured videos at different remote VSAT terminals. Video for transmitting end and few remote receiving ends will be provided. The solution must not directly use both side videos to access quality. For datasets and additional information, please visit https://vedas.sac.gov.in/en/sih2022.html']"
      ]
     },
     "execution_count": 11,
     "metadata": {},
     "output_type": "execute_result"
    }
   ],
   "source": [
    "# first two descriptions\n",
    "description[:2]"
   ]
  },
  {
   "cell_type": "code",
   "execution_count": 12,
   "id": "f6fe2c6c",
   "metadata": {
    "scrolled": true
   },
   "outputs": [
    {
     "data": {
      "text/html": [
       "<div>\n",
       "<style scoped>\n",
       "    .dataframe tbody tr th:only-of-type {\n",
       "        vertical-align: middle;\n",
       "    }\n",
       "\n",
       "    .dataframe tbody tr th {\n",
       "        vertical-align: top;\n",
       "    }\n",
       "\n",
       "    .dataframe thead th {\n",
       "        text-align: right;\n",
       "    }\n",
       "</style>\n",
       "<table border=\"1\" class=\"dataframe\">\n",
       "  <thead>\n",
       "    <tr style=\"text-align: right;\">\n",
       "      <th></th>\n",
       "      <th>Organization</th>\n",
       "      <th>Problem Statement Title</th>\n",
       "      <th>Problem Statement Description</th>\n",
       "      <th>Category</th>\n",
       "      <th>PS Number</th>\n",
       "      <th>Submitted Idea(s) Count</th>\n",
       "      <th>Domain Bucket</th>\n",
       "    </tr>\n",
       "  </thead>\n",
       "  <tbody>\n",
       "    <tr>\n",
       "      <th>0</th>\n",
       "      <td>White Hour Solutions</td>\n",
       "      <td>Hosting a blockchain code on to a cloud networ...</td>\n",
       "      <td>Hosting a blockchain code on to a cloud networ...</td>\n",
       "      <td>Software</td>\n",
       "      <td>SJ572</td>\n",
       "      <td>60</td>\n",
       "      <td>MedTech / BioTech / HealthTech</td>\n",
       "    </tr>\n",
       "    <tr>\n",
       "      <th>1</th>\n",
       "      <td>Department of Space, Indian Space Research Org...</td>\n",
       "      <td>Runtime remote video quality assessment</td>\n",
       "      <td>Interactive video communication over limited b...</td>\n",
       "      <td>Software</td>\n",
       "      <td>SS584</td>\n",
       "      <td>5</td>\n",
       "      <td>Miscellaneous</td>\n",
       "    </tr>\n",
       "    <tr>\n",
       "      <th>2</th>\n",
       "      <td>Department of Space, Indian Space Research Org...</td>\n",
       "      <td>Video metadata generation &amp; classification</td>\n",
       "      <td>Video documentaries of various ISRO missions a...</td>\n",
       "      <td>Software</td>\n",
       "      <td>SS585</td>\n",
       "      <td>26</td>\n",
       "      <td>Miscellaneous</td>\n",
       "    </tr>\n",
       "    <tr>\n",
       "      <th>3</th>\n",
       "      <td>Department of Space, Indian Space Research Org...</td>\n",
       "      <td>DISCOVER</td>\n",
       "      <td>Discover the objects and features in the image...</td>\n",
       "      <td>Software</td>\n",
       "      <td>SS586</td>\n",
       "      <td>21</td>\n",
       "      <td>Miscellaneous</td>\n",
       "    </tr>\n",
       "    <tr>\n",
       "      <th>4</th>\n",
       "      <td>Department of Space, Indian Space Research Org...</td>\n",
       "      <td>HERITAGE Identification of monuments using Dee...</td>\n",
       "      <td>To identify the monuments from Satellite Image...</td>\n",
       "      <td>Software</td>\n",
       "      <td>SS588</td>\n",
       "      <td>40</td>\n",
       "      <td>Miscellaneous</td>\n",
       "    </tr>\n",
       "  </tbody>\n",
       "</table>\n",
       "</div>"
      ],
      "text/plain": [
       "                                        Organization  \\\n",
       "0                               White Hour Solutions   \n",
       "1  Department of Space, Indian Space Research Org...   \n",
       "2  Department of Space, Indian Space Research Org...   \n",
       "3  Department of Space, Indian Space Research Org...   \n",
       "4  Department of Space, Indian Space Research Org...   \n",
       "\n",
       "                             Problem Statement Title  \\\n",
       "0  Hosting a blockchain code on to a cloud networ...   \n",
       "1            Runtime remote video quality assessment   \n",
       "2         Video metadata generation & classification   \n",
       "3                                           DISCOVER   \n",
       "4  HERITAGE Identification of monuments using Dee...   \n",
       "\n",
       "                       Problem Statement Description  Category PS Number  \\\n",
       "0  Hosting a blockchain code on to a cloud networ...  Software     SJ572   \n",
       "1  Interactive video communication over limited b...  Software     SS584   \n",
       "2  Video documentaries of various ISRO missions a...  Software     SS585   \n",
       "3  Discover the objects and features in the image...  Software     SS586   \n",
       "4  To identify the monuments from Satellite Image...  Software     SS588   \n",
       "\n",
       "  Submitted Idea(s) Count                   Domain Bucket  \n",
       "0                      60  MedTech / BioTech / HealthTech  \n",
       "1                       5                   Miscellaneous  \n",
       "2                      26                   Miscellaneous  \n",
       "3                      21                   Miscellaneous  \n",
       "4                      40                   Miscellaneous  "
      ]
     },
     "execution_count": 12,
     "metadata": {},
     "output_type": "execute_result"
    }
   ],
   "source": [
    "# insert description as new column\n",
    "df.insert(2, \"Problem Statement Description\", description, True)\n",
    "df.head()"
   ]
  },
  {
   "cell_type": "code",
   "execution_count": 13,
   "id": "52d5264e",
   "metadata": {},
   "outputs": [],
   "source": [
    "# save as csv file\n",
    "df.to_csv('sih_2022_updated.csv',index=False)"
   ]
  }
 ],
 "metadata": {
  "kernelspec": {
   "display_name": "Python 3",
   "language": "python",
   "name": "python3"
  },
  "language_info": {
   "codemirror_mode": {
    "name": "ipython",
    "version": 3
   },
   "file_extension": ".py",
   "mimetype": "text/x-python",
   "name": "python",
   "nbconvert_exporter": "python",
   "pygments_lexer": "ipython3",
   "version": "3.8.8"
  }
 },
 "nbformat": 4,
 "nbformat_minor": 5
}

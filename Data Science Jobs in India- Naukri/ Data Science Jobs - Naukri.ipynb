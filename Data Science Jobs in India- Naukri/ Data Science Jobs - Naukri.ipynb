{
 "cells": [
  {
   "cell_type": "markdown",
   "id": "70588947",
   "metadata": {},
   "source": [
    "## Data Science Jobs in India - Naukri"
   ]
  },
  {
   "cell_type": "markdown",
   "id": "237661e7",
   "metadata": {},
   "source": [
    "<strong><a href=\"https://www.naukri.com/\">Naukri.com</a></strong> is an Indian employment website operating in India and Middle East. Naukri.com was founded in March 1997. Naukri was ranked No.1 by 9 independent sources, placing it way ahead of competition.Google Trends names Naukri “the most preferred job search destination in India”.\n",
    "\n",
    "In this project, I scraped the 12,000 results obtained for <strong>'data scientist'</strong> job role in <strong>India</strong>, on May 18, 2022"
   ]
  },
  {
   "cell_type": "code",
   "execution_count": 1,
   "id": "039d6f2a",
   "metadata": {},
   "outputs": [],
   "source": [
    "# import libraries\n",
    "\n",
    "import pandas as pd\n",
    "from selenium import webdriver\n",
    "from selenium.common.exceptions import NoSuchElementException\n",
    "\n",
    "import warnings\n",
    "warnings.filterwarnings('ignore')"
   ]
  },
  {
   "cell_type": "code",
   "execution_count": 2,
   "id": "68e40c5e",
   "metadata": {},
   "outputs": [],
   "source": [
    "# webdriver for Firefox - geckodriver\n",
    "driver = webdriver.Firefox(executable_path='/home/futures/Documents/geckodriver')\n",
    "\n",
    "# sticky timeout to implicitly wait for an element to be found\n",
    "driver.implicitly_wait(10) \n",
    "\n",
    "# open url in the browser\n",
    "driver.get('https://www.naukri.com/')"
   ]
  },
  {
   "cell_type": "code",
   "execution_count": 3,
   "id": "d903f425",
   "metadata": {},
   "outputs": [],
   "source": [
    "# enter job role - data scientist\n",
    "role=driver.find_element_by_xpath('/html/body/div/div[2]/div[3]/div/div/div[1]/div/div/div/input')\n",
    "role.send_keys('data scientist')\n",
    "\n",
    "# location - India\n",
    "location=driver.find_element_by_xpath('/html/body/div/div[2]/div[3]/div/div/div[3]/div/div/div/input')\n",
    "location.send_keys('india')\n",
    "\n",
    "# click search\n",
    "driver.find_element_by_class_name('qsbSubmit').click()"
   ]
  },
  {
   "cell_type": "code",
   "execution_count": 4,
   "id": "0971bb53",
   "metadata": {
    "scrolled": false
   },
   "outputs": [
    {
     "data": {
      "text/html": [
       "<div>\n",
       "<style scoped>\n",
       "    .dataframe tbody tr th:only-of-type {\n",
       "        vertical-align: middle;\n",
       "    }\n",
       "\n",
       "    .dataframe tbody tr th {\n",
       "        vertical-align: top;\n",
       "    }\n",
       "\n",
       "    .dataframe thead th {\n",
       "        text-align: right;\n",
       "    }\n",
       "</style>\n",
       "<table border=\"1\" class=\"dataframe\">\n",
       "  <thead>\n",
       "    <tr style=\"text-align: right;\">\n",
       "      <th></th>\n",
       "      <th>Job_Role</th>\n",
       "      <th>Company</th>\n",
       "      <th>Location</th>\n",
       "      <th>Job Experience</th>\n",
       "      <th>Skills/Description</th>\n",
       "    </tr>\n",
       "  </thead>\n",
       "  <tbody>\n",
       "  </tbody>\n",
       "</table>\n",
       "</div>"
      ],
      "text/plain": [
       "Empty DataFrame\n",
       "Columns: [Job_Role, Company, Location, Job Experience, Skills/Description]\n",
       "Index: []"
      ]
     },
     "execution_count": 4,
     "metadata": {},
     "output_type": "execute_result"
    }
   ],
   "source": [
    "# new dataframe fwith required columns\n",
    "df=pd.DataFrame(columns=['Job_Role','Company','Location','Job Experience','Skills/Description'])\n",
    "df"
   ]
  },
  {
   "cell_type": "code",
   "execution_count": 5,
   "id": "476fe065",
   "metadata": {},
   "outputs": [],
   "source": [
    "# helper function\n",
    "\n",
    "# Function to convert  a list to string\n",
    "def listToString(s): \n",
    "    \n",
    "    # initialize an empty string\n",
    "    str1 = \", \" \n",
    "    \n",
    "    # return string  \n",
    "    return (str1.join(s))"
   ]
  },
  {
   "cell_type": "code",
   "execution_count": 6,
   "id": "0254725d",
   "metadata": {
    "scrolled": false
   },
   "outputs": [
    {
     "name": "stdout",
     "output_type": "stream",
     "text": [
      "CPU times: user 1min 25s, sys: 1.96 s, total: 1min 27s\n",
      "Wall time: 20min 1s\n"
     ]
    }
   ],
   "source": [
    "%%time\n",
    "\n",
    "# page number\n",
    "page = 1\n",
    "\n",
    "condition = True\n",
    "\n",
    "while condition:\n",
    "\n",
    "    # atmost 20 results per page\n",
    "    for i in range(1,21):\n",
    "\n",
    "        try:\n",
    "\n",
    "            role = driver.find_element_by_xpath('/html/body/div/div[3]/div[2]/section[2]/div[2]/article[{}]/div[1]/div[1]/a'.format(i)).text\n",
    "            company = driver.find_element_by_xpath('/html/body/div/div[3]/div[2]/section[2]/div[2]/article[{}]/div[1]/div[1]/div/a[1]'.format(i)).text\n",
    "            location = driver.find_element_by_xpath('/html/body/div/div[3]/div[2]/section[2]/div[2]/article[{}]/div[1]/div[1]/ul/li[3]/span[1]'.format(i)).text\n",
    "            experience = driver.find_element_by_xpath('/html/body/div/div[3]/div[2]/section[2]/div[2]/article[{}]/div[1]/div/ul/li[1]/span'.format(i)).text.replace(' Yrs','')\n",
    "            skill_lst = driver.find_element_by_xpath('/html/body/div/div[3]/div[2]/section[2]/div[2]/article[{}]/ul'.format(i)).text.split('\\n')\n",
    "            skill = listToString(skill_lst)\n",
    "\n",
    "            # append collected information to the dataframe df\n",
    "            df.loc[len(df.index)] = [role,company,location,experience,skill]\n",
    "\n",
    "        except NoSuchElementException:\n",
    "\n",
    "            pass\n",
    "\n",
    "    page += 1\n",
    "\n",
    "    # click next\n",
    "    nxt=driver.find_element_by_xpath('/html/body/div/div[3]/div[2]/section[2]/div[3]/div/a[2]')\n",
    "    driver.execute_script(\"arguments[0].click();\", nxt)\n",
    "\n",
    "    # total 12700+ results showed, 20 results per page => 600+ pages\n",
    "\n",
    "    # stop after 620 pages\n",
    "    if page >= 620:\n",
    "        condition = False"
   ]
  },
  {
   "cell_type": "code",
   "execution_count": 7,
   "id": "997574ea",
   "metadata": {},
   "outputs": [
    {
     "data": {
      "text/plain": [
       "(12232, 5)"
      ]
     },
     "execution_count": 7,
     "metadata": {},
     "output_type": "execute_result"
    }
   ],
   "source": [
    "# drop duplicates\n",
    "df = df.drop_duplicates()\n",
    "\n",
    "# shape of the dataframe\n",
    "df.shape"
   ]
  },
  {
   "cell_type": "code",
   "execution_count": 8,
   "id": "1779a852",
   "metadata": {},
   "outputs": [
    {
     "data": {
      "text/plain": [
       "(12000, 5)"
      ]
     },
     "execution_count": 8,
     "metadata": {},
     "output_type": "execute_result"
    }
   ],
   "source": [
    "# selecting first 12,000 results\n",
    "df = df.iloc[:12000, :]\n",
    "df.shape"
   ]
  },
  {
   "cell_type": "code",
   "execution_count": 9,
   "id": "dbf1422c",
   "metadata": {
    "scrolled": true
   },
   "outputs": [
    {
     "data": {
      "text/html": [
       "<div>\n",
       "<style scoped>\n",
       "    .dataframe tbody tr th:only-of-type {\n",
       "        vertical-align: middle;\n",
       "    }\n",
       "\n",
       "    .dataframe tbody tr th {\n",
       "        vertical-align: top;\n",
       "    }\n",
       "\n",
       "    .dataframe thead th {\n",
       "        text-align: right;\n",
       "    }\n",
       "</style>\n",
       "<table border=\"1\" class=\"dataframe\">\n",
       "  <thead>\n",
       "    <tr style=\"text-align: right;\">\n",
       "      <th></th>\n",
       "      <th>Job_Role</th>\n",
       "      <th>Company</th>\n",
       "      <th>Location</th>\n",
       "      <th>Job Experience</th>\n",
       "      <th>Skills/Description</th>\n",
       "    </tr>\n",
       "  </thead>\n",
       "  <tbody>\n",
       "    <tr>\n",
       "      <th>0</th>\n",
       "      <td>Senior Data Scientist</td>\n",
       "      <td>UPL</td>\n",
       "      <td>Bangalore/Bengaluru, Mumbai (All Areas)</td>\n",
       "      <td>3-6</td>\n",
       "      <td>python, MLT, statistical modeling, machine lea...</td>\n",
       "    </tr>\n",
       "    <tr>\n",
       "      <th>1</th>\n",
       "      <td>Senior Data Scientist</td>\n",
       "      <td>Walmart</td>\n",
       "      <td>Bangalore/Bengaluru</td>\n",
       "      <td>5-9</td>\n",
       "      <td>Data Science, Machine learning, Python, Azure,...</td>\n",
       "    </tr>\n",
       "    <tr>\n",
       "      <th>2</th>\n",
       "      <td>Applied Data Scientist / ML Senior Engineer (P...</td>\n",
       "      <td>SAP India Pvt.Ltd</td>\n",
       "      <td>Bangalore/Bengaluru</td>\n",
       "      <td>5-10</td>\n",
       "      <td>Python, IT Skills, Testing, Cloud, Product Man...</td>\n",
       "    </tr>\n",
       "    <tr>\n",
       "      <th>3</th>\n",
       "      <td>Data Scientist</td>\n",
       "      <td>UPL</td>\n",
       "      <td>Bangalore/Bengaluru, Mumbai (All Areas)</td>\n",
       "      <td>1-4</td>\n",
       "      <td>python, machine learning, Data Science, data a...</td>\n",
       "    </tr>\n",
       "    <tr>\n",
       "      <th>4</th>\n",
       "      <td>Data Scientist</td>\n",
       "      <td>Walmart</td>\n",
       "      <td>Bangalore/Bengaluru</td>\n",
       "      <td>4-8</td>\n",
       "      <td>IT Skills, Python, Data Science, Machine Learn...</td>\n",
       "    </tr>\n",
       "  </tbody>\n",
       "</table>\n",
       "</div>"
      ],
      "text/plain": [
       "                                            Job_Role            Company  \\\n",
       "0                              Senior Data Scientist                UPL   \n",
       "1                              Senior Data Scientist            Walmart   \n",
       "2  Applied Data Scientist / ML Senior Engineer (P...  SAP India Pvt.Ltd   \n",
       "3                                     Data Scientist                UPL   \n",
       "4                                     Data Scientist            Walmart   \n",
       "\n",
       "                                  Location Job Experience  \\\n",
       "0  Bangalore/Bengaluru, Mumbai (All Areas)            3-6   \n",
       "1                      Bangalore/Bengaluru            5-9   \n",
       "2                      Bangalore/Bengaluru           5-10   \n",
       "3  Bangalore/Bengaluru, Mumbai (All Areas)            1-4   \n",
       "4                      Bangalore/Bengaluru            4-8   \n",
       "\n",
       "                                  Skills/Description  \n",
       "0  python, MLT, statistical modeling, machine lea...  \n",
       "1  Data Science, Machine learning, Python, Azure,...  \n",
       "2  Python, IT Skills, Testing, Cloud, Product Man...  \n",
       "3  python, machine learning, Data Science, data a...  \n",
       "4  IT Skills, Python, Data Science, Machine Learn...  "
      ]
     },
     "execution_count": 9,
     "metadata": {},
     "output_type": "execute_result"
    }
   ],
   "source": [
    "# first five rows\n",
    "df.head()"
   ]
  },
  {
   "cell_type": "code",
   "execution_count": 12,
   "id": "372ef9e5",
   "metadata": {
    "scrolled": false
   },
   "outputs": [
    {
     "data": {
      "text/html": [
       "<div>\n",
       "<style scoped>\n",
       "    .dataframe tbody tr th:only-of-type {\n",
       "        vertical-align: middle;\n",
       "    }\n",
       "\n",
       "    .dataframe tbody tr th {\n",
       "        vertical-align: top;\n",
       "    }\n",
       "\n",
       "    .dataframe thead th {\n",
       "        text-align: right;\n",
       "    }\n",
       "</style>\n",
       "<table border=\"1\" class=\"dataframe\">\n",
       "  <thead>\n",
       "    <tr style=\"text-align: right;\">\n",
       "      <th></th>\n",
       "      <th>Job_Role</th>\n",
       "      <th>Company</th>\n",
       "      <th>Location</th>\n",
       "      <th>Job Experience</th>\n",
       "      <th>Skills/Description</th>\n",
       "    </tr>\n",
       "  </thead>\n",
       "  <tbody>\n",
       "    <tr>\n",
       "      <th>12143</th>\n",
       "      <td>Tech Lead/Architect ( Contractual )</td>\n",
       "      <td>Krazy Mantra HR Solutions Pvt. Ltd</td>\n",
       "      <td>Kolkata, Chennai, Bangalore/Bengaluru</td>\n",
       "      <td>8-13</td>\n",
       "      <td>Spark, Python, S3, lambda, Athena, AWS, IT Ski...</td>\n",
       "    </tr>\n",
       "    <tr>\n",
       "      <th>12144</th>\n",
       "      <td>Tech Lead / POD Lead</td>\n",
       "      <td>cliqhr.com</td>\n",
       "      <td>Hyderabad/Secunderabad, Pune, Bangalore/Bengaluru</td>\n",
       "      <td>10-12</td>\n",
       "      <td>AirFlow, BigQuery, GCS, Kafka, Java, Shell scr...</td>\n",
       "    </tr>\n",
       "    <tr>\n",
       "      <th>12145</th>\n",
       "      <td>Java Full Stack Developer - Hibernate / Spring</td>\n",
       "      <td>Serving Skill</td>\n",
       "      <td>Hyderabad/Secunderabad, Bangalore/Bengaluru</td>\n",
       "      <td>2-5</td>\n",
       "      <td>IT Skills, Java, Software Development, Testing...</td>\n",
       "    </tr>\n",
       "    <tr>\n",
       "      <th>12146</th>\n",
       "      <td>Tech Lead - Azure</td>\n",
       "      <td>cliqhr.com</td>\n",
       "      <td>Kochi/Cochin, Mumbai, Hyderabad/Secunderabad, ...</td>\n",
       "      <td>8-10</td>\n",
       "      <td>PowerShell, Azure Data Factory, Azure, PaaS, M...</td>\n",
       "    </tr>\n",
       "    <tr>\n",
       "      <th>12147</th>\n",
       "      <td>Full Stack Developer - Machine Learning</td>\n",
       "      <td>Huquo Consulting Pvt. Ltd</td>\n",
       "      <td>Bangalore/Bengaluru</td>\n",
       "      <td>5-10</td>\n",
       "      <td>Java, JavaScript, Machine Learning, NoSQL, Clo...</td>\n",
       "    </tr>\n",
       "  </tbody>\n",
       "</table>\n",
       "</div>"
      ],
      "text/plain": [
       "                                             Job_Role  \\\n",
       "12143             Tech Lead/Architect ( Contractual )   \n",
       "12144                            Tech Lead / POD Lead   \n",
       "12145  Java Full Stack Developer - Hibernate / Spring   \n",
       "12146                               Tech Lead - Azure   \n",
       "12147         Full Stack Developer - Machine Learning   \n",
       "\n",
       "                                  Company  \\\n",
       "12143  Krazy Mantra HR Solutions Pvt. Ltd   \n",
       "12144                          cliqhr.com   \n",
       "12145                       Serving Skill   \n",
       "12146                          cliqhr.com   \n",
       "12147           Huquo Consulting Pvt. Ltd   \n",
       "\n",
       "                                                Location Job Experience  \\\n",
       "12143              Kolkata, Chennai, Bangalore/Bengaluru           8-13   \n",
       "12144  Hyderabad/Secunderabad, Pune, Bangalore/Bengaluru          10-12   \n",
       "12145        Hyderabad/Secunderabad, Bangalore/Bengaluru            2-5   \n",
       "12146  Kochi/Cochin, Mumbai, Hyderabad/Secunderabad, ...           8-10   \n",
       "12147                                Bangalore/Bengaluru           5-10   \n",
       "\n",
       "                                      Skills/Description  \n",
       "12143  Spark, Python, S3, lambda, Athena, AWS, IT Ski...  \n",
       "12144  AirFlow, BigQuery, GCS, Kafka, Java, Shell scr...  \n",
       "12145  IT Skills, Java, Software Development, Testing...  \n",
       "12146  PowerShell, Azure Data Factory, Azure, PaaS, M...  \n",
       "12147  Java, JavaScript, Machine Learning, NoSQL, Clo...  "
      ]
     },
     "execution_count": 12,
     "metadata": {},
     "output_type": "execute_result"
    }
   ],
   "source": [
    "# last five rows\n",
    "df.tail()"
   ]
  },
  {
   "cell_type": "code",
   "execution_count": 15,
   "id": "099f4022",
   "metadata": {},
   "outputs": [],
   "source": [
    "# # save as csv file\n",
    "df.to_csv('naukri_data_science_jobs_india.csv', index=False)"
   ]
  }
 ],
 "metadata": {
  "kernelspec": {
   "display_name": "Python 3 (ipykernel)",
   "language": "python",
   "name": "python3"
  },
  "language_info": {
   "codemirror_mode": {
    "name": "ipython",
    "version": 3
   },
   "file_extension": ".py",
   "mimetype": "text/x-python",
   "name": "python",
   "nbconvert_exporter": "python",
   "pygments_lexer": "ipython3",
   "version": "3.9.7"
  }
 },
 "nbformat": 4,
 "nbformat_minor": 5
}

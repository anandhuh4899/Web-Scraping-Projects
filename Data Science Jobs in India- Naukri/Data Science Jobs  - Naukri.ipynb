{
 "cells": [
  {
   "cell_type": "markdown",
   "id": "ad55f1e3",
   "metadata": {},
   "source": [
    "## Data Science Jobs in India - Naukri"
   ]
  },
  {
   "cell_type": "markdown",
   "id": "6088334b",
   "metadata": {},
   "source": [
    "<strong><a href=\"https://www.naukri.com/\">Naukri.com</a></strong> is an Indian employment website operating in India and Middle East. Naukri.com was founded in March 1997. Naukri was ranked No.1 by 9 independent sources, placing it way ahead of competition.Google Trends names Naukri “the most preferred job search destination in India”.\n",
    "\n",
    "In this project, I web scraped first 12,000 results obtained for <strong>'data scientist'</strong> job role in <strong>India</strong>"
   ]
  },
  {
   "cell_type": "code",
   "execution_count": 14,
   "id": "0f470707",
   "metadata": {},
   "outputs": [],
   "source": [
    "# pip install selenium"
   ]
  },
  {
   "cell_type": "code",
   "execution_count": 2,
   "id": "a5241005",
   "metadata": {},
   "outputs": [],
   "source": [
    "# import libraries\n",
    "\n",
    "import pandas as pd\n",
    "import re\n",
    "from selenium import webdriver\n",
    "\n",
    "import warnings\n",
    "warnings.filterwarnings('ignore')"
   ]
  },
  {
   "cell_type": "markdown",
   "id": "1395ba30",
   "metadata": {},
   "source": [
    "if you are using Chrome, use the code <br>\n",
    "```{python}\n",
    "driver = webdriver.Chrome(executable_path='/path/chromedriver')\n",
    "```\n",
    "- To download chromedriver, <a href=\"https://chromedriver.storage.googleapis.com/index.html?path=101.0.4951.15/\">click here</a>\n",
    "- To download geckodriver, <a href=\"https://github.com/mozilla/geckodriver/releases\">click here</a>"
   ]
  },
  {
   "cell_type": "code",
   "execution_count": 3,
   "id": "24dea8f5",
   "metadata": {},
   "outputs": [],
   "source": [
    "# webdriver for Firefox - geckodriver\n",
    "driver = webdriver.Firefox(executable_path='/home/futures/Documents/geckodriver')\n",
    "\n",
    "# sticky timeout to implicitly wait for an element to be found\n",
    "driver.implicitly_wait(20) \n",
    "\n",
    "# open url in the browser\n",
    "driver.get('https://www.naukri.com/')"
   ]
  },
  {
   "cell_type": "code",
   "execution_count": 4,
   "id": "73a70bf9",
   "metadata": {},
   "outputs": [],
   "source": [
    "# enter job role - data scientist\n",
    "role=driver.find_element_by_xpath('/html/body/div/div[2]/div[3]/div/div/div[1]/div/div/div/input')\n",
    "role.send_keys('data scientist')\n",
    "\n",
    "# location - India\n",
    "location=driver.find_element_by_xpath('/html/body/div/div[2]/div[3]/div/div/div[3]/div/div/div/input')\n",
    "location.send_keys('india')\n",
    "\n",
    "# click search\n",
    "driver.find_element_by_class_name('qsbSubmit').click()"
   ]
  },
  {
   "cell_type": "code",
   "execution_count": 5,
   "id": "e22000da",
   "metadata": {
    "scrolled": true
   },
   "outputs": [
    {
     "data": {
      "text/html": [
       "<div>\n",
       "<style scoped>\n",
       "    .dataframe tbody tr th:only-of-type {\n",
       "        vertical-align: middle;\n",
       "    }\n",
       "\n",
       "    .dataframe tbody tr th {\n",
       "        vertical-align: top;\n",
       "    }\n",
       "\n",
       "    .dataframe thead th {\n",
       "        text-align: right;\n",
       "    }\n",
       "</style>\n",
       "<table border=\"1\" class=\"dataframe\">\n",
       "  <thead>\n",
       "    <tr style=\"text-align: right;\">\n",
       "      <th></th>\n",
       "      <th>Job_Role</th>\n",
       "      <th>Company</th>\n",
       "      <th>Location</th>\n",
       "      <th>Job Experience</th>\n",
       "      <th>Skills/Description</th>\n",
       "    </tr>\n",
       "  </thead>\n",
       "  <tbody>\n",
       "  </tbody>\n",
       "</table>\n",
       "</div>"
      ],
      "text/plain": [
       "Empty DataFrame\n",
       "Columns: [Job_Role, Company, Location, Job Experience, Skills/Description]\n",
       "Index: []"
      ]
     },
     "execution_count": 5,
     "metadata": {},
     "output_type": "execute_result"
    }
   ],
   "source": [
    "# new dataframe fwith required columns\n",
    "df=pd.DataFrame(columns=['Job_Role','Company','Location','Job Experience','Skills/Description'])\n",
    "df"
   ]
  },
  {
   "cell_type": "code",
   "execution_count": 6,
   "id": "471aa184",
   "metadata": {
    "scrolled": false
   },
   "outputs": [],
   "source": [
    "# page number\n",
    "p = 1\n",
    "\n",
    "condition = True\n",
    "\n",
    "while condition:\n",
    "    \n",
    "    try:\n",
    "        \n",
    "        # 20 results per page\n",
    "        for i in range(1,21):\n",
    "\n",
    "            role = driver.find_element_by_xpath('/html/body/div/div[3]/div[2]/section[2]/div[2]/article[{}]/div[1]/div[1]/a'.format(i)).text\n",
    "            company = driver.find_element_by_xpath('/html/body/div/div[3]/div[2]/section[2]/div[2]/article[{}]/div[1]/div[1]/div/a[1]'.format(i)).text\n",
    "            location = driver.find_element_by_xpath('/html/body/div/div[3]/div[2]/section[2]/div[2]/article[{}]/div[1]/div[1]/ul/li[3]/span[1]'.format(i)).text\n",
    "            experience = driver.find_element_by_xpath('/html/body/div/div[3]/div[2]/section[2]/div[2]/article[{}]/div[1]/div/ul/li[1]/span'.format(i)).text.replace(' Yrs','')\n",
    "            skill = driver.find_element_by_xpath('/html/body/div/div[3]/div[2]/section[2]/div[2]/article[{}]/ul'.format(i)).text.split('\\n')\n",
    "            \n",
    "            # append collected information to dataframe \n",
    "            df.loc[len(df.index)] = [role,company,location,experience,skill]\n",
    "        \n",
    "        p = p + 1\n",
    "        \n",
    "        # click next\n",
    "        driver.find_element_by_xpath('/html/body/div/div[3]/div[2]/section[2]/div[3]/div/a[2]').click()\n",
    "\n",
    "        \n",
    "    except NoSuchElementException:\n",
    "        \n",
    "        # refresh page in case of exception\n",
    "        driver.refresh() \n",
    "        \n",
    "    \n",
    "    # total 12700+ results showed, 20 results per page => 600+ pages\n",
    "    \n",
    "    # stop after 600 pages\n",
    "    if p > 600:\n",
    "        condition = False"
   ]
  },
  {
   "cell_type": "code",
   "execution_count": 7,
   "id": "b384c5df",
   "metadata": {},
   "outputs": [
    {
     "data": {
      "text/plain": [
       "(12000, 5)"
      ]
     },
     "execution_count": 7,
     "metadata": {},
     "output_type": "execute_result"
    }
   ],
   "source": [
    "# shape of the dataframe\n",
    "df.shape"
   ]
  },
  {
   "cell_type": "markdown",
   "id": "fe35d85c",
   "metadata": {},
   "source": [
    "12,000 results are scraped into a dataframe"
   ]
  },
  {
   "cell_type": "code",
   "execution_count": 11,
   "id": "f3d03759",
   "metadata": {
    "scrolled": true
   },
   "outputs": [
    {
     "data": {
      "text/html": [
       "<div>\n",
       "<style scoped>\n",
       "    .dataframe tbody tr th:only-of-type {\n",
       "        vertical-align: middle;\n",
       "    }\n",
       "\n",
       "    .dataframe tbody tr th {\n",
       "        vertical-align: top;\n",
       "    }\n",
       "\n",
       "    .dataframe thead th {\n",
       "        text-align: right;\n",
       "    }\n",
       "</style>\n",
       "<table border=\"1\" class=\"dataframe\">\n",
       "  <thead>\n",
       "    <tr style=\"text-align: right;\">\n",
       "      <th></th>\n",
       "      <th>Job_Role</th>\n",
       "      <th>Company</th>\n",
       "      <th>Location</th>\n",
       "      <th>Job Experience</th>\n",
       "      <th>Skills/Description</th>\n",
       "    </tr>\n",
       "  </thead>\n",
       "  <tbody>\n",
       "    <tr>\n",
       "      <th>0</th>\n",
       "      <td>Data Analyst / Data Scientist</td>\n",
       "      <td>JK Technosoft</td>\n",
       "      <td>Noida, Hyderabad/Secunderabad, Bangalore/Benga...</td>\n",
       "      <td>5-7</td>\n",
       "      <td>[SAP, SQL Server, Oracle, analytical, IT Skill...</td>\n",
       "    </tr>\n",
       "    <tr>\n",
       "      <th>1</th>\n",
       "      <td>Sr. Data Scientist</td>\n",
       "      <td>Thomson Reuters</td>\n",
       "      <td>Bangalore/Bengaluru</td>\n",
       "      <td>3-6</td>\n",
       "      <td>[Computer science, Customer acquisition, Busin...</td>\n",
       "    </tr>\n",
       "    <tr>\n",
       "      <th>2</th>\n",
       "      <td>Senior Data Scientist</td>\n",
       "      <td>IKEA Group</td>\n",
       "      <td>Bangalore/Bengaluru</td>\n",
       "      <td>5-10</td>\n",
       "      <td>[Computer science, Operations research, Perfor...</td>\n",
       "    </tr>\n",
       "    <tr>\n",
       "      <th>3</th>\n",
       "      <td>Data Scientist/ Analyst Specialist</td>\n",
       "      <td>TransOrg Solutions Services (P) Ltd.</td>\n",
       "      <td>Noida, New Delhi, Gurgaon/Gurugram, Delhi / NC...</td>\n",
       "      <td>1-4</td>\n",
       "      <td>[Machine Learning, Python, SQL, R, Logistic Re...</td>\n",
       "    </tr>\n",
       "    <tr>\n",
       "      <th>4</th>\n",
       "      <td>Job Opening For Data Scientist - Rapid Miner</td>\n",
       "      <td>Wipro</td>\n",
       "      <td>Kochi/Cochin, Kolkata, Gurgaon/Gurugram, Chenn...</td>\n",
       "      <td>6-11</td>\n",
       "      <td>[Data Science, Rapid Miner, IT Skills, Python,...</td>\n",
       "    </tr>\n",
       "  </tbody>\n",
       "</table>\n",
       "</div>"
      ],
      "text/plain": [
       "                                       Job_Role  \\\n",
       "0                 Data Analyst / Data Scientist   \n",
       "1                            Sr. Data Scientist   \n",
       "2                         Senior Data Scientist   \n",
       "3            Data Scientist/ Analyst Specialist   \n",
       "4  Job Opening For Data Scientist - Rapid Miner   \n",
       "\n",
       "                                Company  \\\n",
       "0                         JK Technosoft   \n",
       "1                       Thomson Reuters   \n",
       "2                            IKEA Group   \n",
       "3  TransOrg Solutions Services (P) Ltd.   \n",
       "4                                 Wipro   \n",
       "\n",
       "                                            Location Job Experience  \\\n",
       "0  Noida, Hyderabad/Secunderabad, Bangalore/Benga...            5-7   \n",
       "1                                Bangalore/Bengaluru            3-6   \n",
       "2                                Bangalore/Bengaluru           5-10   \n",
       "3  Noida, New Delhi, Gurgaon/Gurugram, Delhi / NC...            1-4   \n",
       "4  Kochi/Cochin, Kolkata, Gurgaon/Gurugram, Chenn...           6-11   \n",
       "\n",
       "                                  Skills/Description  \n",
       "0  [SAP, SQL Server, Oracle, analytical, IT Skill...  \n",
       "1  [Computer science, Customer acquisition, Busin...  \n",
       "2  [Computer science, Operations research, Perfor...  \n",
       "3  [Machine Learning, Python, SQL, R, Logistic Re...  \n",
       "4  [Data Science, Rapid Miner, IT Skills, Python,...  "
      ]
     },
     "execution_count": 11,
     "metadata": {},
     "output_type": "execute_result"
    }
   ],
   "source": [
    "# first five rows\n",
    "df.head()"
   ]
  },
  {
   "cell_type": "code",
   "execution_count": 12,
   "id": "98d14192",
   "metadata": {
    "scrolled": true
   },
   "outputs": [
    {
     "data": {
      "text/html": [
       "<div>\n",
       "<style scoped>\n",
       "    .dataframe tbody tr th:only-of-type {\n",
       "        vertical-align: middle;\n",
       "    }\n",
       "\n",
       "    .dataframe tbody tr th {\n",
       "        vertical-align: top;\n",
       "    }\n",
       "\n",
       "    .dataframe thead th {\n",
       "        text-align: right;\n",
       "    }\n",
       "</style>\n",
       "<table border=\"1\" class=\"dataframe\">\n",
       "  <thead>\n",
       "    <tr style=\"text-align: right;\">\n",
       "      <th></th>\n",
       "      <th>Job_Role</th>\n",
       "      <th>Company</th>\n",
       "      <th>Location</th>\n",
       "      <th>Job Experience</th>\n",
       "      <th>Skills/Description</th>\n",
       "    </tr>\n",
       "  </thead>\n",
       "  <tbody>\n",
       "    <tr>\n",
       "      <th>11995</th>\n",
       "      <td>Teradata Developers with US based top IT Client</td>\n",
       "      <td>Reputed US based MNC</td>\n",
       "      <td>Hyderabad/Secunderabad</td>\n",
       "      <td>4-9</td>\n",
       "      <td>[SQL Server, Teradata, IT Skills, Cloud, Chang...</td>\n",
       "    </tr>\n",
       "    <tr>\n",
       "      <th>11996</th>\n",
       "      <td>Hiring For Azure+ETL Professionals @ Coforge, ...</td>\n",
       "      <td>Coforge</td>\n",
       "      <td>Gurgaon/Gurugram</td>\n",
       "      <td>6-11</td>\n",
       "      <td>[Agile, Tensorflow, Azure, ETL, IT Skills, Dat...</td>\n",
       "    </tr>\n",
       "    <tr>\n",
       "      <th>11997</th>\n",
       "      <td>Technical Expert, Principal Solutions Architect</td>\n",
       "      <td>Landis+Gyr</td>\n",
       "      <td>Noida</td>\n",
       "      <td>10-14</td>\n",
       "      <td>[advanced analytics, Architect, Automation, Us...</td>\n",
       "    </tr>\n",
       "    <tr>\n",
       "      <th>11998</th>\n",
       "      <td>Hiring For DBA Head/ Manager</td>\n",
       "      <td>IndiaMART</td>\n",
       "      <td>Noida</td>\n",
       "      <td>7-11</td>\n",
       "      <td>[IT Skills, PHP, Cloud, Oracle, Big Data, data...</td>\n",
       "    </tr>\n",
       "    <tr>\n",
       "      <th>11999</th>\n",
       "      <td>Manager, Business Analytics</td>\n",
       "      <td>Micron Tech</td>\n",
       "      <td>Hyderabad/Secunderabad</td>\n",
       "      <td>5-10</td>\n",
       "      <td>[engineering, computer science, statistics, In...</td>\n",
       "    </tr>\n",
       "  </tbody>\n",
       "</table>\n",
       "</div>"
      ],
      "text/plain": [
       "                                                Job_Role  \\\n",
       "11995    Teradata Developers with US based top IT Client   \n",
       "11996  Hiring For Azure+ETL Professionals @ Coforge, ...   \n",
       "11997    Technical Expert, Principal Solutions Architect   \n",
       "11998                       Hiring For DBA Head/ Manager   \n",
       "11999                        Manager, Business Analytics   \n",
       "\n",
       "                    Company                Location Job Experience  \\\n",
       "11995  Reputed US based MNC  Hyderabad/Secunderabad            4-9   \n",
       "11996               Coforge        Gurgaon/Gurugram           6-11   \n",
       "11997            Landis+Gyr                   Noida          10-14   \n",
       "11998             IndiaMART                   Noida           7-11   \n",
       "11999           Micron Tech  Hyderabad/Secunderabad           5-10   \n",
       "\n",
       "                                      Skills/Description  \n",
       "11995  [SQL Server, Teradata, IT Skills, Cloud, Chang...  \n",
       "11996  [Agile, Tensorflow, Azure, ETL, IT Skills, Dat...  \n",
       "11997  [advanced analytics, Architect, Automation, Us...  \n",
       "11998  [IT Skills, PHP, Cloud, Oracle, Big Data, data...  \n",
       "11999  [engineering, computer science, statistics, In...  "
      ]
     },
     "execution_count": 12,
     "metadata": {},
     "output_type": "execute_result"
    }
   ],
   "source": [
    "# last five rows\n",
    "df.tail()"
   ]
  },
  {
   "cell_type": "code",
   "execution_count": 15,
   "id": "be86edc8",
   "metadata": {},
   "outputs": [],
   "source": [
    "# save as excel file\n",
    "df.to_excel('naukri_data_science_jobs_india.xlsx',index=False)"
   ]
  }
 ],
 "metadata": {
  "kernelspec": {
   "display_name": "Python 3 (ipykernel)",
   "language": "python",
   "name": "python3"
  },
  "language_info": {
   "codemirror_mode": {
    "name": "ipython",
    "version": 3
   },
   "file_extension": ".py",
   "mimetype": "text/x-python",
   "name": "python",
   "nbconvert_exporter": "python",
   "pygments_lexer": "ipython3",
   "version": "3.9.7"
  }
 },
 "nbformat": 4,
 "nbformat_minor": 5
}

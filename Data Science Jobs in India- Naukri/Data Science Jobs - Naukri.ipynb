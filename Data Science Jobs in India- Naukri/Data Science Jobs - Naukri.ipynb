{
 "cells": [
  {
   "cell_type": "markdown",
   "id": "ad55f1e3",
   "metadata": {},
   "source": [
    "## Data Science Jobs in India - Naukri"
   ]
  },
  {
   "cell_type": "markdown",
   "id": "6088334b",
   "metadata": {},
   "source": [
    "<strong><a href=\"https://www.naukri.com/\">Naukri.com</a></strong> is an Indian employment website operating in India and Middle East. Naukri.com was founded in March 1997. Naukri was ranked No.1 by 9 independent sources, placing it way ahead of competition.Google Trends names Naukri “the most preferred job search destination in India”.\n",
    "\n",
    "In this project, I web scraped first 12,000 results obtained for <strong>'data scientist'</strong> job role in <strong>India</strong>"
   ]
  },
  {
   "cell_type": "code",
   "execution_count": 1,
   "id": "0f470707",
   "metadata": {},
   "outputs": [],
   "source": [
    "# pip install selenium"
   ]
  },
  {
   "cell_type": "code",
   "execution_count": 2,
   "id": "a5241005",
   "metadata": {},
   "outputs": [],
   "source": [
    "# import libraries\n",
    "\n",
    "import pandas as pd\n",
    "from selenium import webdriver\n",
    "from selenium.common.exceptions import NoSuchElementException\n",
    "\n",
    "import warnings\n",
    "warnings.filterwarnings('ignore')"
   ]
  },
  {
   "cell_type": "code",
   "execution_count": 3,
   "id": "24dea8f5",
   "metadata": {},
   "outputs": [],
   "source": [
    "# webdriver for Firefox - geckodriver\n",
    "driver = webdriver.Firefox(executable_path='/home/futures/Documents/geckodriver')\n",
    "\n",
    "# sticky timeout to implicitly wait for an element to be found\n",
    "driver.implicitly_wait(10) \n",
    "\n",
    "# open url in the browser\n",
    "driver.get('https://www.naukri.com/')"
   ]
  },
  {
   "cell_type": "code",
   "execution_count": 4,
   "id": "73a70bf9",
   "metadata": {},
   "outputs": [],
   "source": [
    "# enter job role - data scientist\n",
    "role=driver.find_element_by_xpath('/html/body/div/div[2]/div[3]/div/div/div[1]/div/div/div/input')\n",
    "role.send_keys('data scientist')\n",
    "\n",
    "# location - India\n",
    "location=driver.find_element_by_xpath('/html/body/div/div[2]/div[3]/div/div/div[3]/div/div/div/input')\n",
    "location.send_keys('india')\n",
    "\n",
    "# click search\n",
    "driver.find_element_by_class_name('qsbSubmit').click()"
   ]
  },
  {
   "cell_type": "code",
   "execution_count": 6,
   "id": "e22000da",
   "metadata": {
    "scrolled": false
   },
   "outputs": [
    {
     "data": {
      "text/html": [
       "<div>\n",
       "<style scoped>\n",
       "    .dataframe tbody tr th:only-of-type {\n",
       "        vertical-align: middle;\n",
       "    }\n",
       "\n",
       "    .dataframe tbody tr th {\n",
       "        vertical-align: top;\n",
       "    }\n",
       "\n",
       "    .dataframe thead th {\n",
       "        text-align: right;\n",
       "    }\n",
       "</style>\n",
       "<table border=\"1\" class=\"dataframe\">\n",
       "  <thead>\n",
       "    <tr style=\"text-align: right;\">\n",
       "      <th></th>\n",
       "      <th>Job_Role</th>\n",
       "      <th>Company</th>\n",
       "      <th>Location</th>\n",
       "      <th>Job Experience</th>\n",
       "      <th>Skills/Description</th>\n",
       "    </tr>\n",
       "  </thead>\n",
       "  <tbody>\n",
       "  </tbody>\n",
       "</table>\n",
       "</div>"
      ],
      "text/plain": [
       "Empty DataFrame\n",
       "Columns: [Job_Role, Company, Location, Job Experience, Skills/Description]\n",
       "Index: []"
      ]
     },
     "execution_count": 6,
     "metadata": {},
     "output_type": "execute_result"
    }
   ],
   "source": [
    "# new dataframe fwith required columns\n",
    "df=pd.DataFrame(columns=['Job_Role','Company','Location','Job Experience','Skills/Description'])\n",
    "df"
   ]
  },
  {
   "cell_type": "code",
   "execution_count": 7,
   "id": "5e1bbb89",
   "metadata": {},
   "outputs": [],
   "source": [
    "# helper function\n",
    "\n",
    "# Function to convert  a list to string\n",
    "def listToString(s): \n",
    "    \n",
    "    # initialize an empty string\n",
    "    str1 = \", \" \n",
    "    \n",
    "    # return string  \n",
    "    return (str1.join(s))"
   ]
  },
  {
   "cell_type": "code",
   "execution_count": 8,
   "id": "471aa184",
   "metadata": {
    "scrolled": false
   },
   "outputs": [
    {
     "name": "stdout",
     "output_type": "stream",
     "text": [
      "CPU times: user 1min 14s, sys: 2.19 s, total: 1min 16s\n",
      "Wall time: 18min 19s\n"
     ]
    }
   ],
   "source": [
    "%%time\n",
    "\n",
    "# page number\n",
    "page = 1\n",
    "\n",
    "condition = True\n",
    "\n",
    "while condition:\n",
    "\n",
    "    # atmost 20 results per page\n",
    "    for i in range(1,21):\n",
    "\n",
    "        try:\n",
    "\n",
    "            role = driver.find_element_by_xpath('/html/body/div/div[3]/div[2]/section[2]/div[2]/article[{}]/div[1]/div[1]/a'.format(i)).text\n",
    "            company = driver.find_element_by_xpath('/html/body/div/div[3]/div[2]/section[2]/div[2]/article[{}]/div[1]/div[1]/div/a[1]'.format(i)).text\n",
    "            location = driver.find_element_by_xpath('/html/body/div/div[3]/div[2]/section[2]/div[2]/article[{}]/div[1]/div[1]/ul/li[3]/span[1]'.format(i)).text\n",
    "            experience = driver.find_element_by_xpath('/html/body/div/div[3]/div[2]/section[2]/div[2]/article[{}]/div[1]/div/ul/li[1]/span'.format(i)).text.replace(' Yrs','')\n",
    "            skill_lst = driver.find_element_by_xpath('/html/body/div/div[3]/div[2]/section[2]/div[2]/article[{}]/ul'.format(i)).text.split('\\n')\n",
    "            skill = listToString(skill_lst)\n",
    "\n",
    "            # append collected information to the dataframe df\n",
    "            df.loc[len(df.index)] = [role,company,location,experience,skill]\n",
    "\n",
    "\n",
    "        except NoSuchElementException:\n",
    "\n",
    "            pass\n",
    "\n",
    "    page += 1\n",
    "\n",
    "    # click next\n",
    "    nxt=driver.find_element_by_xpath('/html/body/div/div[3]/div[2]/section[2]/div[3]/div/a[2]')\n",
    "    driver.execute_script(\"arguments[0].click();\", nxt)\n",
    "\n",
    "    # total 12700+ results showed, 20 results per page => 600+ pages\n",
    "\n",
    "    # stop after 620 pages\n",
    "    if page >= 620:\n",
    "        condition = False"
   ]
  },
  {
   "cell_type": "code",
   "execution_count": 11,
   "id": "74a7e762",
   "metadata": {},
   "outputs": [
    {
     "data": {
      "text/plain": [
       "(12163, 5)"
      ]
     },
     "execution_count": 11,
     "metadata": {},
     "output_type": "execute_result"
    }
   ],
   "source": [
    "# drop duplicates\n",
    "df=df.drop_duplicates()\n",
    "\n",
    "# shape of the dataframe\n",
    "df.shape"
   ]
  },
  {
   "cell_type": "code",
   "execution_count": 12,
   "id": "9b4f3202",
   "metadata": {},
   "outputs": [
    {
     "data": {
      "text/plain": [
       "(12000, 5)"
      ]
     },
     "execution_count": 12,
     "metadata": {},
     "output_type": "execute_result"
    }
   ],
   "source": [
    "# selecting first 12,000 results\n",
    "df=df.iloc[:12000,:]\n",
    "df.shape"
   ]
  },
  {
   "cell_type": "code",
   "execution_count": 13,
   "id": "f3d03759",
   "metadata": {
    "scrolled": true
   },
   "outputs": [
    {
     "data": {
      "text/html": [
       "<div>\n",
       "<style scoped>\n",
       "    .dataframe tbody tr th:only-of-type {\n",
       "        vertical-align: middle;\n",
       "    }\n",
       "\n",
       "    .dataframe tbody tr th {\n",
       "        vertical-align: top;\n",
       "    }\n",
       "\n",
       "    .dataframe thead th {\n",
       "        text-align: right;\n",
       "    }\n",
       "</style>\n",
       "<table border=\"1\" class=\"dataframe\">\n",
       "  <thead>\n",
       "    <tr style=\"text-align: right;\">\n",
       "      <th></th>\n",
       "      <th>Job_Role</th>\n",
       "      <th>Company</th>\n",
       "      <th>Location</th>\n",
       "      <th>Job Experience</th>\n",
       "      <th>Skills/Description</th>\n",
       "    </tr>\n",
       "  </thead>\n",
       "  <tbody>\n",
       "    <tr>\n",
       "      <th>0</th>\n",
       "      <td>Data Scientist: Artificial Intelligence</td>\n",
       "      <td>IBM</td>\n",
       "      <td>Bangalore/Bengaluru</td>\n",
       "      <td>6-11</td>\n",
       "      <td>Scheduling, big data, Unix shell scripting, SQ...</td>\n",
       "    </tr>\n",
       "    <tr>\n",
       "      <th>1</th>\n",
       "      <td>Staff Data Scientist</td>\n",
       "      <td>Walmart</td>\n",
       "      <td>Bangalore/Bengaluru</td>\n",
       "      <td>4-8</td>\n",
       "      <td>IT Skills, Data Science, Machine Learning, Big...</td>\n",
       "    </tr>\n",
       "    <tr>\n",
       "      <th>2</th>\n",
       "      <td>Data Scientist-Client Engineering</td>\n",
       "      <td>IBM</td>\n",
       "      <td>Mumbai</td>\n",
       "      <td>5-10</td>\n",
       "      <td>Consulting, Machine learning, Healthcare, Pres...</td>\n",
       "    </tr>\n",
       "    <tr>\n",
       "      <th>3</th>\n",
       "      <td>Senior Data Scientist</td>\n",
       "      <td>Walmart</td>\n",
       "      <td>Bangalore/Bengaluru</td>\n",
       "      <td>5-10</td>\n",
       "      <td>IT Skills, Testing, Data Science, Machine Lear...</td>\n",
       "    </tr>\n",
       "    <tr>\n",
       "      <th>4</th>\n",
       "      <td>Cognitive/AI Senior Data Scientist</td>\n",
       "      <td>IBM</td>\n",
       "      <td>Bangalore/Bengaluru</td>\n",
       "      <td>4-8</td>\n",
       "      <td>Automation, Consulting, Machine learning, Anal...</td>\n",
       "    </tr>\n",
       "  </tbody>\n",
       "</table>\n",
       "</div>"
      ],
      "text/plain": [
       "                                  Job_Role  Company             Location  \\\n",
       "0  Data Scientist: Artificial Intelligence      IBM  Bangalore/Bengaluru   \n",
       "1                     Staff Data Scientist  Walmart  Bangalore/Bengaluru   \n",
       "2        Data Scientist-Client Engineering      IBM               Mumbai   \n",
       "3                    Senior Data Scientist  Walmart  Bangalore/Bengaluru   \n",
       "4       Cognitive/AI Senior Data Scientist      IBM  Bangalore/Bengaluru   \n",
       "\n",
       "  Job Experience                                 Skills/Description  \n",
       "0           6-11  Scheduling, big data, Unix shell scripting, SQ...  \n",
       "1            4-8  IT Skills, Data Science, Machine Learning, Big...  \n",
       "2           5-10  Consulting, Machine learning, Healthcare, Pres...  \n",
       "3           5-10  IT Skills, Testing, Data Science, Machine Lear...  \n",
       "4            4-8  Automation, Consulting, Machine learning, Anal...  "
      ]
     },
     "execution_count": 13,
     "metadata": {},
     "output_type": "execute_result"
    }
   ],
   "source": [
    "# first five rows\n",
    "df.head()"
   ]
  },
  {
   "cell_type": "code",
   "execution_count": 14,
   "id": "98d14192",
   "metadata": {
    "scrolled": true
   },
   "outputs": [
    {
     "data": {
      "text/html": [
       "<div>\n",
       "<style scoped>\n",
       "    .dataframe tbody tr th:only-of-type {\n",
       "        vertical-align: middle;\n",
       "    }\n",
       "\n",
       "    .dataframe tbody tr th {\n",
       "        vertical-align: top;\n",
       "    }\n",
       "\n",
       "    .dataframe thead th {\n",
       "        text-align: right;\n",
       "    }\n",
       "</style>\n",
       "<table border=\"1\" class=\"dataframe\">\n",
       "  <thead>\n",
       "    <tr style=\"text-align: right;\">\n",
       "      <th></th>\n",
       "      <th>Job_Role</th>\n",
       "      <th>Company</th>\n",
       "      <th>Location</th>\n",
       "      <th>Job Experience</th>\n",
       "      <th>Skills/Description</th>\n",
       "    </tr>\n",
       "  </thead>\n",
       "  <tbody>\n",
       "    <tr>\n",
       "      <th>12208</th>\n",
       "      <td>Cognos Developer</td>\n",
       "      <td>Datametica Solutions Pvt Ltd</td>\n",
       "      <td>Hyderabad/Secunderabad, Pune</td>\n",
       "      <td>4-9</td>\n",
       "      <td>Cognos Framework Manager, Cognos, Automation, ...</td>\n",
       "    </tr>\n",
       "    <tr>\n",
       "      <th>12209</th>\n",
       "      <td>Program Manager (IT - Retail Industry), 30-35 ...</td>\n",
       "      <td>Talent Bee Consulting Pvt. Ltd</td>\n",
       "      <td>Bangalore/Bengaluru</td>\n",
       "      <td>10-15</td>\n",
       "      <td>IT Skills, Java, Software Development, Data Sc...</td>\n",
       "    </tr>\n",
       "    <tr>\n",
       "      <th>12210</th>\n",
       "      <td>Java Developer - 3-6 Years, 24 LPA, Bangalore,...</td>\n",
       "      <td>Talent Bee Consulting Pvt. Ltd</td>\n",
       "      <td>Bangalore/Bengaluru</td>\n",
       "      <td>3-6</td>\n",
       "      <td>MySQL, PostgresSQL, REST, OO, J2ee, patterns, ...</td>\n",
       "    </tr>\n",
       "    <tr>\n",
       "      <th>12211</th>\n",
       "      <td>Node.JS Developer</td>\n",
       "      <td>Sysvine Technologies</td>\n",
       "      <td>Remote</td>\n",
       "      <td>2-7</td>\n",
       "      <td>Javascript, Node.Js, React.Js, Angular JS, Vue...</td>\n",
       "    </tr>\n",
       "    <tr>\n",
       "      <th>12212</th>\n",
       "      <td>Developer</td>\n",
       "      <td>Orcapod Consulting Services Private Limited</td>\n",
       "      <td>Bangalore/Bengaluru</td>\n",
       "      <td>4-8</td>\n",
       "      <td>ES6, Enzyme, LESS, Jest, CSS, Highcharts, D3, ...</td>\n",
       "    </tr>\n",
       "  </tbody>\n",
       "</table>\n",
       "</div>"
      ],
      "text/plain": [
       "                                                Job_Role  \\\n",
       "12208                                   Cognos Developer   \n",
       "12209  Program Manager (IT - Retail Industry), 30-35 ...   \n",
       "12210  Java Developer - 3-6 Years, 24 LPA, Bangalore,...   \n",
       "12211                                  Node.JS Developer   \n",
       "12212                                          Developer   \n",
       "\n",
       "                                           Company  \\\n",
       "12208                 Datametica Solutions Pvt Ltd   \n",
       "12209               Talent Bee Consulting Pvt. Ltd   \n",
       "12210               Talent Bee Consulting Pvt. Ltd   \n",
       "12211                         Sysvine Technologies   \n",
       "12212  Orcapod Consulting Services Private Limited   \n",
       "\n",
       "                           Location Job Experience  \\\n",
       "12208  Hyderabad/Secunderabad, Pune            4-9   \n",
       "12209           Bangalore/Bengaluru          10-15   \n",
       "12210           Bangalore/Bengaluru            3-6   \n",
       "12211                        Remote            2-7   \n",
       "12212           Bangalore/Bengaluru            4-8   \n",
       "\n",
       "                                      Skills/Description  \n",
       "12208  Cognos Framework Manager, Cognos, Automation, ...  \n",
       "12209  IT Skills, Java, Software Development, Data Sc...  \n",
       "12210  MySQL, PostgresSQL, REST, OO, J2ee, patterns, ...  \n",
       "12211  Javascript, Node.Js, React.Js, Angular JS, Vue...  \n",
       "12212  ES6, Enzyme, LESS, Jest, CSS, Highcharts, D3, ...  "
      ]
     },
     "execution_count": 14,
     "metadata": {},
     "output_type": "execute_result"
    }
   ],
   "source": [
    "# last five rows\n",
    "df.tail()"
   ]
  },
  {
   "cell_type": "code",
   "execution_count": 15,
   "id": "be86edc8",
   "metadata": {},
   "outputs": [],
   "source": [
    "# save as excel file\n",
    "df.to_excel('naukri_data_science_jobs_india.xlsx',index=False)"
   ]
  }
 ],
 "metadata": {
  "kernelspec": {
   "display_name": "Python 3 (ipykernel)",
   "language": "python",
   "name": "python3"
  },
  "language_info": {
   "codemirror_mode": {
    "name": "ipython",
    "version": 3
   },
   "file_extension": ".py",
   "mimetype": "text/x-python",
   "name": "python",
   "nbconvert_exporter": "python",
   "pygments_lexer": "ipython3",
   "version": "3.9.7"
  }
 },
 "nbformat": 4,
 "nbformat_minor": 5
}

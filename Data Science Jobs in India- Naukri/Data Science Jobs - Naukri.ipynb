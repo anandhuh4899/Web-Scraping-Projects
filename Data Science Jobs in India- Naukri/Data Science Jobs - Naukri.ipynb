{
 "cells": [
  {
   "cell_type": "markdown",
   "id": "ad55f1e3",
   "metadata": {},
   "source": [
    "## Data Science Jobs in India - Naukri"
   ]
  },
  {
   "cell_type": "markdown",
   "id": "6088334b",
   "metadata": {},
   "source": [
    "<strong><a href=\"https://www.naukri.com/\">Naukri.com</a></strong> is an Indian employment website operating in India and Middle East. Naukri.com was founded in March 1997. Naukri was ranked No.1 by 9 independent sources, placing it way ahead of competition.Google Trends names Naukri “the most preferred job search destination in India”.\n",
    "\n",
    "In this project, I web scraped first 12,000 results obtained for <strong>'data scientist'</strong> job role in <strong>India</strong>"
   ]
  },
  {
   "cell_type": "code",
   "execution_count": 1,
   "id": "0f470707",
   "metadata": {},
   "outputs": [],
   "source": [
    "# pip install selenium"
   ]
  },
  {
   "cell_type": "code",
   "execution_count": 2,
   "id": "a5241005",
   "metadata": {},
   "outputs": [],
   "source": [
    "# import libraries\n",
    "\n",
    "import pandas as pd\n",
    "from selenium import webdriver\n",
    "\n",
    "import warnings\n",
    "warnings.filterwarnings('ignore')"
   ]
  },
  {
   "cell_type": "markdown",
   "id": "1395ba30",
   "metadata": {},
   "source": [
    "if you are using Chrome, use the code <br>\n",
    "```\n",
    "driver = webdriver.Chrome(executable_path='/path/chromedriver')\n",
    "```\n",
    "- To download chromedriver, <a href=\"https://chromedriver.storage.googleapis.com/index.html?path=101.0.4951.15/\">click here</a>"
   ]
  },
  {
   "cell_type": "code",
   "execution_count": 3,
   "id": "24dea8f5",
   "metadata": {},
   "outputs": [],
   "source": [
    "# webdriver for Firefox - geckodriver\n",
    "driver = webdriver.Firefox(executable_path='/home/anandhuh/Documents/geckodriver')\n",
    "\n",
    "# sticky timeout to implicitly wait for an element to be found\n",
    "driver.implicitly_wait(20) \n",
    "\n",
    "# open url in the browser\n",
    "driver.get('https://www.naukri.com/')"
   ]
  },
  {
   "cell_type": "code",
   "execution_count": 4,
   "id": "73a70bf9",
   "metadata": {},
   "outputs": [],
   "source": [
    "# enter job role - data scientist\n",
    "role=driver.find_element_by_xpath('/html/body/div/div[2]/div[3]/div/div/div[1]/div/div/div/input')\n",
    "role.send_keys('data scientist')\n",
    "\n",
    "# location - India\n",
    "location=driver.find_element_by_xpath('/html/body/div/div[2]/div[3]/div/div/div[3]/div/div/div/input')\n",
    "location.send_keys('india')\n",
    "\n",
    "# click search\n",
    "driver.find_element_by_class_name('qsbSubmit').click()"
   ]
  },
  {
   "cell_type": "code",
   "execution_count": 5,
   "id": "e22000da",
   "metadata": {
    "scrolled": true
   },
   "outputs": [
    {
     "data": {
      "text/html": [
       "<div>\n",
       "<style scoped>\n",
       "    .dataframe tbody tr th:only-of-type {\n",
       "        vertical-align: middle;\n",
       "    }\n",
       "\n",
       "    .dataframe tbody tr th {\n",
       "        vertical-align: top;\n",
       "    }\n",
       "\n",
       "    .dataframe thead th {\n",
       "        text-align: right;\n",
       "    }\n",
       "</style>\n",
       "<table border=\"1\" class=\"dataframe\">\n",
       "  <thead>\n",
       "    <tr style=\"text-align: right;\">\n",
       "      <th></th>\n",
       "      <th>Job_Role</th>\n",
       "      <th>Company</th>\n",
       "      <th>Location</th>\n",
       "      <th>Job Experience</th>\n",
       "      <th>Skills/Description</th>\n",
       "    </tr>\n",
       "  </thead>\n",
       "  <tbody>\n",
       "  </tbody>\n",
       "</table>\n",
       "</div>"
      ],
      "text/plain": [
       "Empty DataFrame\n",
       "Columns: [Job_Role, Company, Location, Job Experience, Skills/Description]\n",
       "Index: []"
      ]
     },
     "execution_count": 5,
     "metadata": {},
     "output_type": "execute_result"
    }
   ],
   "source": [
    "# new dataframe fwith required columns\n",
    "df=pd.DataFrame(columns=['Job_Role','Company','Location','Job Experience','Skills/Description'])\n",
    "df"
   ]
  },
  {
   "cell_type": "code",
   "execution_count": 6,
   "id": "5e1bbb89",
   "metadata": {},
   "outputs": [],
   "source": [
    "# helper function\n",
    "\n",
    "# Function to convert  a list to string\n",
    "def listToString(s): \n",
    "    \n",
    "    # initialize an empty string\n",
    "    str1 = \", \" \n",
    "    \n",
    "    # return string  \n",
    "    return (str1.join(s))"
   ]
  },
  {
   "cell_type": "code",
   "execution_count": 7,
   "id": "471aa184",
   "metadata": {
    "scrolled": false
   },
   "outputs": [
    {
     "name": "stdout",
     "output_type": "stream",
     "text": [
      "CPU times: user 2min 22s, sys: 4.73 s, total: 2min 27s\n",
      "Wall time: 24min 2s\n"
     ]
    }
   ],
   "source": [
    "%%time\n",
    "\n",
    "# page number\n",
    "page = 1\n",
    "\n",
    "condition = True\n",
    "\n",
    "while condition:\n",
    "    \n",
    "    try:\n",
    "        \n",
    "        # 20 results per page\n",
    "        for i in range(1,21):\n",
    "\n",
    "            role = driver.find_element_by_xpath('/html/body/div/div[3]/div[2]/section[2]/div[2]/article[{}]/div[1]/div[1]/a'.format(i)).text\n",
    "            company = driver.find_element_by_xpath('/html/body/div/div[3]/div[2]/section[2]/div[2]/article[{}]/div[1]/div[1]/div/a[1]'.format(i)).text\n",
    "            location = driver.find_element_by_xpath('/html/body/div/div[3]/div[2]/section[2]/div[2]/article[{}]/div[1]/div[1]/ul/li[3]/span[1]'.format(i)).text\n",
    "            experience = driver.find_element_by_xpath('/html/body/div/div[3]/div[2]/section[2]/div[2]/article[{}]/div[1]/div/ul/li[1]/span'.format(i)).text.replace(' Yrs','')\n",
    "            skill_lst = driver.find_element_by_xpath('/html/body/div/div[3]/div[2]/section[2]/div[2]/article[{}]/ul'.format(i)).text.split('\\n')\n",
    "            skill = listToString(skill_lst)\n",
    "            \n",
    "            # append collected information to the dataframe df\n",
    "            df.loc[len(df.index)] = [role,company,location,experience,skill]\n",
    "        \n",
    "        page += 1\n",
    "        \n",
    "        # click next\n",
    "        driver.find_element_by_xpath('/html/body/div/div[3]/div[2]/section[2]/div[3]/div/a[2]').click()\n",
    "\n",
    "        \n",
    "    except NoSuchElementException:\n",
    "        \n",
    "        # refresh page in case of exception\n",
    "        driver.refresh() \n",
    "        \n",
    "    \n",
    "    # total 12700+ results showed, 20 results per page => 600+ pages\n",
    "    \n",
    "    # stop after 600 pages\n",
    "    if page > 600:\n",
    "        condition = False"
   ]
  },
  {
   "cell_type": "code",
   "execution_count": 8,
   "id": "b384c5df",
   "metadata": {},
   "outputs": [
    {
     "data": {
      "text/plain": [
       "(12000, 5)"
      ]
     },
     "execution_count": 8,
     "metadata": {},
     "output_type": "execute_result"
    }
   ],
   "source": [
    "# shape of the dataframe\n",
    "df.shape"
   ]
  },
  {
   "cell_type": "markdown",
   "id": "fe35d85c",
   "metadata": {},
   "source": [
    "12,000 results are scraped into a dataframe"
   ]
  },
  {
   "cell_type": "code",
   "execution_count": 9,
   "id": "f3d03759",
   "metadata": {
    "scrolled": false
   },
   "outputs": [
    {
     "data": {
      "text/html": [
       "<div>\n",
       "<style scoped>\n",
       "    .dataframe tbody tr th:only-of-type {\n",
       "        vertical-align: middle;\n",
       "    }\n",
       "\n",
       "    .dataframe tbody tr th {\n",
       "        vertical-align: top;\n",
       "    }\n",
       "\n",
       "    .dataframe thead th {\n",
       "        text-align: right;\n",
       "    }\n",
       "</style>\n",
       "<table border=\"1\" class=\"dataframe\">\n",
       "  <thead>\n",
       "    <tr style=\"text-align: right;\">\n",
       "      <th></th>\n",
       "      <th>Job_Role</th>\n",
       "      <th>Company</th>\n",
       "      <th>Location</th>\n",
       "      <th>Job Experience</th>\n",
       "      <th>Skills/Description</th>\n",
       "    </tr>\n",
       "  </thead>\n",
       "  <tbody>\n",
       "    <tr>\n",
       "      <th>0</th>\n",
       "      <td>Data Scientist</td>\n",
       "      <td>Novo Nordisk India</td>\n",
       "      <td>Bangalore/Bengaluru</td>\n",
       "      <td>3-8</td>\n",
       "      <td>Process automation, Telecom, Data analysis, da...</td>\n",
       "    </tr>\n",
       "    <tr>\n",
       "      <th>1</th>\n",
       "      <td>Senior/ Lead Data Scientist - Market Mix Model...</td>\n",
       "      <td>BLEND360 INDIA PRIVATE LIMITED</td>\n",
       "      <td>Hyderabad/Secunderabad</td>\n",
       "      <td>3-8</td>\n",
       "      <td>Data Scientist, Market Mix Modelling, Pyspark,...</td>\n",
       "    </tr>\n",
       "    <tr>\n",
       "      <th>2</th>\n",
       "      <td>Data Analyst / Data Scientist</td>\n",
       "      <td>JK Technosoft</td>\n",
       "      <td>Noida, Hyderabad/Secunderabad, Bangalore/Benga...</td>\n",
       "      <td>5-7</td>\n",
       "      <td>SAP, SQL Server, Oracle, analytical, IT Skills...</td>\n",
       "    </tr>\n",
       "    <tr>\n",
       "      <th>3</th>\n",
       "      <td>Sr. Data Scientist</td>\n",
       "      <td>Thomson Reuters</td>\n",
       "      <td>Bangalore/Bengaluru</td>\n",
       "      <td>3-6</td>\n",
       "      <td>Computer science, Customer acquisition, Busine...</td>\n",
       "    </tr>\n",
       "    <tr>\n",
       "      <th>4</th>\n",
       "      <td>Senior Data Scientist (Computational Geometry)</td>\n",
       "      <td>HERE Technologies</td>\n",
       "      <td>Bangalore/Bengaluru</td>\n",
       "      <td>4-7</td>\n",
       "      <td>data science, computational geometry, machine ...</td>\n",
       "    </tr>\n",
       "  </tbody>\n",
       "</table>\n",
       "</div>"
      ],
      "text/plain": [
       "                                            Job_Role  \\\n",
       "0                                     Data Scientist   \n",
       "1  Senior/ Lead Data Scientist - Market Mix Model...   \n",
       "2                      Data Analyst / Data Scientist   \n",
       "3                                 Sr. Data Scientist   \n",
       "4     Senior Data Scientist (Computational Geometry)   \n",
       "\n",
       "                          Company  \\\n",
       "0              Novo Nordisk India   \n",
       "1  BLEND360 INDIA PRIVATE LIMITED   \n",
       "2                   JK Technosoft   \n",
       "3                 Thomson Reuters   \n",
       "4               HERE Technologies   \n",
       "\n",
       "                                            Location Job Experience  \\\n",
       "0                                Bangalore/Bengaluru            3-8   \n",
       "1                             Hyderabad/Secunderabad            3-8   \n",
       "2  Noida, Hyderabad/Secunderabad, Bangalore/Benga...            5-7   \n",
       "3                                Bangalore/Bengaluru            3-6   \n",
       "4                                Bangalore/Bengaluru            4-7   \n",
       "\n",
       "                                  Skills/Description  \n",
       "0  Process automation, Telecom, Data analysis, da...  \n",
       "1  Data Scientist, Market Mix Modelling, Pyspark,...  \n",
       "2  SAP, SQL Server, Oracle, analytical, IT Skills...  \n",
       "3  Computer science, Customer acquisition, Busine...  \n",
       "4  data science, computational geometry, machine ...  "
      ]
     },
     "execution_count": 9,
     "metadata": {},
     "output_type": "execute_result"
    }
   ],
   "source": [
    "# first five rows\n",
    "df.head()"
   ]
  },
  {
   "cell_type": "code",
   "execution_count": 10,
   "id": "98d14192",
   "metadata": {
    "scrolled": true
   },
   "outputs": [
    {
     "data": {
      "text/html": [
       "<div>\n",
       "<style scoped>\n",
       "    .dataframe tbody tr th:only-of-type {\n",
       "        vertical-align: middle;\n",
       "    }\n",
       "\n",
       "    .dataframe tbody tr th {\n",
       "        vertical-align: top;\n",
       "    }\n",
       "\n",
       "    .dataframe thead th {\n",
       "        text-align: right;\n",
       "    }\n",
       "</style>\n",
       "<table border=\"1\" class=\"dataframe\">\n",
       "  <thead>\n",
       "    <tr style=\"text-align: right;\">\n",
       "      <th></th>\n",
       "      <th>Job_Role</th>\n",
       "      <th>Company</th>\n",
       "      <th>Location</th>\n",
       "      <th>Job Experience</th>\n",
       "      <th>Skills/Description</th>\n",
       "    </tr>\n",
       "  </thead>\n",
       "  <tbody>\n",
       "    <tr>\n",
       "      <th>11995</th>\n",
       "      <td>NLP Python - Developer</td>\n",
       "      <td>Anicalls</td>\n",
       "      <td>Hyderabad/Secunderabad</td>\n",
       "      <td>5-9</td>\n",
       "      <td>AWS, Translation, development testing, Neural ...</td>\n",
       "    </tr>\n",
       "    <tr>\n",
       "      <th>11996</th>\n",
       "      <td>Python Developer</td>\n",
       "      <td>Carta Healthcare</td>\n",
       "      <td>Mumbai, Navi Mumbai, Mumbai (All Areas)</td>\n",
       "      <td>4-5</td>\n",
       "      <td>python, postgresql, flask, IT Skills, Software...</td>\n",
       "    </tr>\n",
       "    <tr>\n",
       "      <th>11997</th>\n",
       "      <td>Python Developer</td>\n",
       "      <td>Coditas Technologies Pvt Ltd</td>\n",
       "      <td>Pune</td>\n",
       "      <td>3-6</td>\n",
       "      <td>IT Skills, Python, Javascript, Backend, Front ...</td>\n",
       "    </tr>\n",
       "    <tr>\n",
       "      <th>11998</th>\n",
       "      <td>Python/ Django Developer</td>\n",
       "      <td>StarClinch</td>\n",
       "      <td>New Delhi</td>\n",
       "      <td>2-5</td>\n",
       "      <td>Computer science, Front end, HP data protector...</td>\n",
       "    </tr>\n",
       "    <tr>\n",
       "      <th>11999</th>\n",
       "      <td>Python Developer</td>\n",
       "      <td>Seven Consultancy (HR Solution)</td>\n",
       "      <td>Mumbai</td>\n",
       "      <td>3-8</td>\n",
       "      <td>MIN, Data management, Consultancy, MVC, Manage...</td>\n",
       "    </tr>\n",
       "  </tbody>\n",
       "</table>\n",
       "</div>"
      ],
      "text/plain": [
       "                       Job_Role                          Company  \\\n",
       "11995    NLP Python - Developer                         Anicalls   \n",
       "11996          Python Developer                 Carta Healthcare   \n",
       "11997          Python Developer     Coditas Technologies Pvt Ltd   \n",
       "11998  Python/ Django Developer                       StarClinch   \n",
       "11999          Python Developer  Seven Consultancy (HR Solution)   \n",
       "\n",
       "                                      Location Job Experience  \\\n",
       "11995                   Hyderabad/Secunderabad            5-9   \n",
       "11996  Mumbai, Navi Mumbai, Mumbai (All Areas)            4-5   \n",
       "11997                                     Pune            3-6   \n",
       "11998                                New Delhi            2-5   \n",
       "11999                                   Mumbai            3-8   \n",
       "\n",
       "                                      Skills/Description  \n",
       "11995  AWS, Translation, development testing, Neural ...  \n",
       "11996  python, postgresql, flask, IT Skills, Software...  \n",
       "11997  IT Skills, Python, Javascript, Backend, Front ...  \n",
       "11998  Computer science, Front end, HP data protector...  \n",
       "11999  MIN, Data management, Consultancy, MVC, Manage...  "
      ]
     },
     "execution_count": 10,
     "metadata": {},
     "output_type": "execute_result"
    }
   ],
   "source": [
    "# last five rows\n",
    "df.tail()"
   ]
  },
  {
   "cell_type": "code",
   "execution_count": 11,
   "id": "be86edc8",
   "metadata": {},
   "outputs": [],
   "source": [
    "# save as excel file\n",
    "df.to_excel('naukri_data_science_jobs_india.xlsx',index=False)"
   ]
  }
 ],
 "metadata": {
  "kernelspec": {
   "display_name": "Python 3",
   "language": "python",
   "name": "python3"
  },
  "language_info": {
   "codemirror_mode": {
    "name": "ipython",
    "version": 3
   },
   "file_extension": ".py",
   "mimetype": "text/x-python",
   "name": "python",
   "nbconvert_exporter": "python",
   "pygments_lexer": "ipython3",
   "version": "3.8.8"
  }
 },
 "nbformat": 4,
 "nbformat_minor": 5
}
